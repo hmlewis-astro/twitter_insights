{
 "cells": [
  {
   "cell_type": "markdown",
   "id": "accessory-supervision",
   "metadata": {},
   "source": [
    "# Welcome to <font color='red'>BE</font>yond <font color='red'>T</font>witter <font color='red'>A</font>nalytics, or <font color='red'>BETA</font>:\n",
    "\n",
    "### an app for small business and social media influencers to dig deeper into their advertisements and maximize follower-base growth"
   ]
  },
  {
   "cell_type": "code",
   "execution_count": 1,
   "id": "equal-pharmacy",
   "metadata": {},
   "outputs": [],
   "source": [
    "import glob\n",
    "import os\n",
    "\n",
    "from analysis import process_fch, process_tweets, format_ticks, analyze_data\n"
   ]
  },
  {
   "cell_type": "code",
   "execution_count": 2,
   "id": "departmental-juice",
   "metadata": {},
   "outputs": [
    {
     "name": "stdout",
     "output_type": "stream",
     "text": [
      "Note, for now (until the app is public), please enter the Twitter handle and associated Tweet archive file name for one of the available archives listed here:\n",
      "\n",
      "dog_rates, dog_rates_tweet.json\n",
      "\n",
      "\n",
      "In the future, users will be able to upload the /data/tweet.js file from their account's downloaded Twitter archive.\n"
     ]
    }
   ],
   "source": [
    "available_archives = sorted(glob.glob('archives/*_tweet.json'))\n",
    "\n",
    "print('Note, for now (until the app is public), please enter the Twitter handle and associated Tweet archive file name for one of the available archives listed here:\\n')\n",
    "for arc in available_archives:\n",
    "    print('{}, {}\\n'.format(arc.replace('archives/', '').replace('_tweet.json',''), arc.replace('archives/', '')))\n",
    "    \n",
    "print('\\nIn the future, users will be able to upload the /data/tweet.js file from their account\\'s downloaded Twitter archive.')\n",
    "      "
   ]
  },
  {
   "cell_type": "markdown",
   "id": "satisfactory-deployment",
   "metadata": {},
   "source": [
    "### To get started, we need to know:"
   ]
  },
  {
   "cell_type": "code",
   "execution_count": 3,
   "id": "quality-recipient",
   "metadata": {},
   "outputs": [
    {
     "name": "stdout",
     "output_type": "stream",
     "text": [
      "What is the Twitter handle of the account you want to run BETA on?\n",
      "  dog_rates\n"
     ]
    }
   ],
   "source": [
    "thandle = input('What is the Twitter handle of the account you want to run BETA on?\\n  ')\n"
   ]
  },
  {
   "cell_type": "code",
   "execution_count": 4,
   "id": "interracial-success",
   "metadata": {},
   "outputs": [
    {
     "name": "stdout",
     "output_type": "stream",
     "text": [
      "Upload the account's Twitter archive:\n",
      "  dog_rates_tweet.json\n"
     ]
    }
   ],
   "source": [
    "tweet_file = input('Upload the account\\'s Twitter archive:\\n  ')\n",
    "assert os.path.exists(os.path.join('archives', tweet_file)), 'File path does not exist. Make sure you entered the path correctly and try again.'\n",
    "tweet_file = os.path.join('archives', tweet_file)\n"
   ]
  },
  {
   "cell_type": "markdown",
   "id": "fixed-standing",
   "metadata": {},
   "source": [
    "### Great!\n",
    "\n",
    "### Now let's pull your historical follower data and start searching for ads that have lost and gained you the most followers..."
   ]
  },
  {
   "cell_type": "code",
   "execution_count": null,
   "id": "unavailable-channel",
   "metadata": {},
   "outputs": [
    {
     "name": "stdout",
     "output_type": "stream",
     "text": [
      "Twitter handle: @dog_rates\n",
      "\n",
      "Formatting historical follower count archive...\n",
      "Done!\n",
      "\n",
      "Formatting Tweet archive...\n",
      "Done!\n",
      "\n",
      "Combining historical follower count and Tweet archives...\n"
     ]
    }
   ],
   "source": [
    "analyze_data.get_data(thandle, tweet_file)\n",
    "\n",
    "tweets = analyze_data.combine_archives(thandle)\n"
   ]
  },
  {
   "cell_type": "markdown",
   "id": "dated-custom",
   "metadata": {},
   "source": [
    "### Let's extract your advertisements from the full Twitter archive.\n",
    "#### Users often include #ad or #partner to distinguish advertisements from other Tweets.\n",
    "#### When prompted, please identify the cluster that contains Tweets that look most like your ads (look for the hashtags and URLs that you include most frequently in your ads)."
   ]
  },
  {
   "cell_type": "code",
   "execution_count": null,
   "id": "characteristic-spare",
   "metadata": {},
   "outputs": [],
   "source": [
    "ad_cluster = analyze_data.cluster_tweets(thandle, tweets)\n"
   ]
  },
  {
   "cell_type": "markdown",
   "id": "accurate-gathering",
   "metadata": {},
   "source": [
    "## Here's your report!\n",
    "### Each PDF provides a sample of the Tweets that lost and gained you the most followers. You can use these reports to improve your advertisements in the future!"
   ]
  },
  {
   "cell_type": "code",
   "execution_count": null,
   "id": "standing-movie",
   "metadata": {},
   "outputs": [],
   "source": [
    "gainy_tweets, lossy_tweets = analyze_data.sig_follower_change(tweets, ad_cluster)\n",
    "\n",
    "analyze_data.report(thandle, gainy_tweets, lossy_tweets)"
   ]
  },
  {
   "cell_type": "code",
   "execution_count": null,
   "id": "flying-office",
   "metadata": {},
   "outputs": [],
   "source": []
  }
 ],
 "metadata": {
  "kernelspec": {
   "display_name": "Python 3",
   "language": "python",
   "name": "python3"
  },
  "language_info": {
   "codemirror_mode": {
    "name": "ipython",
    "version": 3
   },
   "file_extension": ".py",
   "mimetype": "text/x-python",
   "name": "python",
   "nbconvert_exporter": "python",
   "pygments_lexer": "ipython3",
   "version": "3.7.7"
  }
 },
 "nbformat": 4,
 "nbformat_minor": 5
}
