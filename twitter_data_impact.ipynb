{
 "cells": [
  {
   "cell_type": "code",
   "execution_count": 1,
   "id": "grateful-injection",
   "metadata": {},
   "outputs": [],
   "source": [
    "import datetime\n",
    "import numpy as np\n",
    "import pandas as pd\n",
    "from pandas.core.common import SettingWithCopyWarning\n",
    "import random\n",
    "import warnings\n",
    "\n",
    "warnings.simplefilter(action=\"ignore\", category=SettingWithCopyWarning)\n",
    "\n",
    "from kneed import KneeLocator\n",
    "from sklearn.cluster import KMeans\n",
    "from sklearn.linear_model import LinearRegression\n",
    "from sklearn.preprocessing import StandardScaler\n",
    "\n",
    "import matplotlib as mpl\n",
    "import matplotlib.pyplot as plt\n",
    "import matplotlib.ticker as tick\n",
    "\n",
    "mpl.rcParams['axes.titlesize'] = 20\n",
    "mpl.rcParams['axes.labelsize'] = 18\n",
    "mpl.rcParams['lines.linewidth'] = 3\n",
    "mpl.rcParams['lines.markersize'] = 5\n",
    "mpl.rcParams['xtick.labelsize'] = 16\n",
    "mpl.rcParams['ytick.labelsize'] = 16\n",
    "\n",
    "seed = 42\n"
   ]
  },
  {
   "cell_type": "code",
   "execution_count": 2,
   "id": "professional-guitar",
   "metadata": {},
   "outputs": [
    {
     "name": "stdout",
     "output_type": "stream",
     "text": [
      "Twitter handle: @dog_rates\n"
     ]
    }
   ],
   "source": [
    "followers_archive = pd.read_hdf('dog_rates_follower_count.h5')\n",
    "\n",
    "thandle = followers_archive.archive_url[0][followers_archive.archive_url[0].rindex('/')+1:]\n",
    "print('Twitter handle:', '@{}'.format(thandle))\n"
   ]
  },
  {
   "cell_type": "code",
   "execution_count": 3,
   "id": "coated-suicide",
   "metadata": {},
   "outputs": [],
   "source": [
    "tweets = pd.read_hdf('dog_rates_tweets_archive.h5').reset_index()\n"
   ]
  },
  {
   "cell_type": "code",
   "execution_count": 4,
   "id": "level-cameroon",
   "metadata": {},
   "outputs": [],
   "source": [
    "tweets_followers_archive = pd.DataFrame()\n",
    "\n",
    "# specific to scraped datasets, matching time of Tweet to current follower count\n",
    "for i,tweet in tweets.iterrows():\n",
    "    idx = np.argmin(np.abs(followers_archive.archive_created_at - tweet['created_at']))\n",
    "    dat = followers_archive.loc[[idx]]\n",
    "    tweets_followers_archive = tweets_followers_archive.append(dat, ignore_index=True)\n"
   ]
  },
  {
   "cell_type": "code",
   "execution_count": 5,
   "id": "magnetic-external",
   "metadata": {},
   "outputs": [],
   "source": [
    "tweets_concat = pd.concat([tweets, tweets_followers_archive], axis=1)\n",
    "tweets_concat['favorite_count_log'] = np.log10(tweets_concat['favorite_count'].mask(tweets_concat['favorite_count'] == 0)).fillna(1)\n",
    "tweets_concat['favorite_count_per_follower'] = tweets_concat['favorite_count']/tweets_concat['follower_count']\n",
    "tweets_concat['retweet_count_per_follower'] = tweets_concat['retweet_count']/tweets_concat['follower_count']\n",
    "tweets_concat = tweets_concat.sort_values(by='created_at', ignore_index=True)                                               \n"
   ]
  },
  {
   "cell_type": "code",
   "execution_count": 6,
   "id": "distributed-registration",
   "metadata": {},
   "outputs": [],
   "source": [
    "def reformat_large_tick_values(tick_val, pos):\n",
    "    \"\"\"\n",
    "    Turns large tick values (in the billions, millions and thousands) such as 4500 into 4.5K and also appropriately turns 4000 into 4K (no zero after the decimal).\n",
    "    \"\"\"\n",
    "    if tick_val < 0:\n",
    "        sign = '-'\n",
    "    else:\n",
    "        sign = ''\n",
    "    \n",
    "    if np.abs(tick_val) >= 1000000000:\n",
    "        val = round(tick_val/1000000000, 1)\n",
    "        new_tick_format = '{0}{1:}B'.format(sign,val)\n",
    "    elif np.abs(tick_val) >= 1000000:\n",
    "        val = round(tick_val/1000000, 1)\n",
    "        new_tick_format = '{0}{1:}M'.format(sign, val)\n",
    "    elif np.abs(tick_val) >= 1000:\n",
    "        val = round(tick_val/1000, 1)\n",
    "        new_tick_format = '{0}{1:}K'.format(sign, val)\n",
    "    elif np.abs(tick_val) < 1000:\n",
    "        val = round(tick_val, 1)\n",
    "        new_tick_format = '{0}{1:}'.format(sign, val)\n",
    "    else:\n",
    "        new_tick_format = tick_val\n",
    "\n",
    "    # make new_tick_format into a string value\n",
    "    new_tick_format = str(new_tick_format)\n",
    "    \n",
    "    # code below will keep 4.5M as is but change values such as 4.0M to 4M\n",
    "    index_of_decimal = new_tick_format.find(\".\")\n",
    "    \n",
    "    if index_of_decimal != -1:\n",
    "        value_after_decimal = new_tick_format[index_of_decimal+1]\n",
    "        if value_after_decimal == \"0\":\n",
    "            # remove the 0 after the decimal point since it's not needed\n",
    "            new_tick_format = new_tick_format[0:index_of_decimal] + new_tick_format[index_of_decimal+2:]\n",
    "\n",
    "    return new_tick_format"
   ]
  },
  {
   "cell_type": "code",
   "execution_count": 7,
   "id": "sound-novelty",
   "metadata": {},
   "outputs": [],
   "source": [
    "# interested in time period following intial growth\n",
    "# specific to WeRateDogs dataset, need to implement way to remove period of initial growth\n",
    "tweets_clip = tweets_concat[tweets_concat['created_at'] > datetime.datetime(2018,9,5)]\n"
   ]
  },
  {
   "cell_type": "code",
   "execution_count": 8,
   "id": "hindu-parliament",
   "metadata": {},
   "outputs": [],
   "source": [
    "# prepare data for clustering algorithm\n",
    "tweets_clustering = tweets_clip.drop(['index','id','created_at','in_reply_to_status_id',\n",
    "                                        'in_reply_to_user_id','in_reply_to_screen_name','full_text',\n",
    "                                        'hashtags_bool','user_mentions','urls_bool','media_url','media_type',\n",
    "                                        'archive_created_at','archive_url','follower_count','delta_follower',\n",
    "                                        'delta_follower_pct','per_time','delta_follower_per_time',\n",
    "                                        'retweet_count_per_follower'], axis=1)\n",
    "\n",
    "# formatting categorical data\n",
    "tweets_clustering = tweets_clustering.where(pd.notnull(tweets_clustering), 'FALSE')\n",
    "\n",
    "mask = tweets_clustering.applymap(type) != bool\n",
    "d = {True: 'TRUE', False: 'FALSE'}\n",
    "\n",
    "tweets_clustering = tweets_clustering.where(mask, tweets_clustering.replace(d))\n"
   ]
  },
  {
   "cell_type": "code",
   "execution_count": 9,
   "id": "favorite-concord",
   "metadata": {},
   "outputs": [],
   "source": [
    "# identify continuous (i.e., numerical) and categorical data\n",
    "num_feats = ['retweet_count', 'favorite_count', 'favorite_count_log', 'favorite_count_per_follower']\n",
    "cat_feats = ['is_quote_status', 'hashtags', 'user_mentions_bool', 'urls', 'media_bool', 'in_reply_bool']\n",
    "# scale continuous data\n",
    "scale = StandardScaler()\n",
    "tweets_clustering[num_feats] = scale.fit_transform(tweets_clustering[num_feats])\n"
   ]
  },
  {
   "cell_type": "code",
   "execution_count": 10,
   "id": "metallic-giant",
   "metadata": {},
   "outputs": [
    {
     "name": "stdout",
     "output_type": "stream",
     "text": [
      "Optimal number of clusters: 6\n"
     ]
    }
   ],
   "source": [
    "# One hot encoding/dummy variable encoding of categorical data\n",
    "\n",
    "inertia = []\n",
    "\n",
    "n_clusters = 30\n",
    "\n",
    "for k in range(1,n_clusters+1):\n",
    "    #TODO: scale data after OHE\n",
    "    model = KMeans(n_clusters=k, random_state=seed).fit(pd.get_dummies(tweets_clustering))\n",
    "    inertia.append(model.inertia_)\n",
    "    \n",
    "kn = KneeLocator(range(1,n_clusters+1), inertia, curve='convex', direction='decreasing')\n",
    "K = kn.knee\n",
    "print('Optimal number of clusters:', K)\n",
    "\n",
    "plt.plot(range(1,n_clusters+1), inertia, c='dodgerblue')\n",
    "plt.xlabel('k')\n",
    "plt.ylabel('Inertia')\n",
    "plt.axvline(K, c='k', ls='--')\n",
    "\n",
    "plt.tight_layout()\n",
    "\n",
    "plt.savefig(thandle + '_inertia_n_clusters.png', dpi=300)\n",
    "\n",
    "plt.close()\n"
   ]
  },
  {
   "cell_type": "code",
   "execution_count": 11,
   "id": "atmospheric-doctrine",
   "metadata": {},
   "outputs": [],
   "source": [
    "#TODO: scale data after OHE\n",
    "model = KMeans(n_clusters=K, random_state=seed).fit(pd.get_dummies(tweets_clustering))\n",
    "pred = model.labels_\n"
   ]
  },
  {
   "cell_type": "code",
   "execution_count": 12,
   "id": "nervous-footwear",
   "metadata": {},
   "outputs": [
    {
     "data": {
      "image/png": "[encoded data removed]",
      "text/plain": [
       "<Figure size 864x432 with 2 Axes>"
      ]
     },
     "metadata": {
      "needs_background": "light"
     },
     "output_type": "display_data"
    }
   ],
   "source": [
    "# plot the clusters\n",
    "fig, ax = plt.subplots(1,2, figsize=(12,6))\n",
    "\n",
    "grouped_clusters = tweets_clip.groupby(pred)\n",
    "\n",
    "cgen = mpl.cm.viridis([c/(K-1) for c in range(K)])\n",
    "\n",
    "for c,df in grouped_clusters:\n",
    "    ax[0].scatter(df.created_at, df.favorite_count, color=cgen[c], s=15, label='Cluster {}'.format(c+1))\n",
    "\n",
    "ax[0].set_xlabel('Date')\n",
    "ax[0].set_ylabel('$N_\\mathrm{Favorites}$')\n",
    "ax[0].set_title('Favorites per Tweet')\n",
    "ax[0].axhline(0.0, c='k', ls='--')\n",
    "xticks = [datetime.datetime.strptime('{}-01-01'.format(y), '%Y-%m-%d') for y in range(df.created_at.min().year, df.created_at.max().year + 1)]\n",
    "xtick_labels = [x.year for x in xticks]\n",
    "if xticks[0] + datetime.timedelta(days=90) < df.created_at.min():\n",
    "    xticks = xticks[1:]\n",
    "    xtick_labels = xtick_labels[1:]\n",
    "if xticks[-1] - datetime.timedelta(days=90) > df.created_at.max():\n",
    "    xticks.append(xticks[-1]+datetime.timedelta(days=365))\n",
    "    xtick_labels.append(xtick_labels[-1]+1)\n",
    "    \n",
    "ax[0].set_xticks(xticks)\n",
    "ax[0].set_xticklabels(xtick_labels)\n",
    "\n",
    "ax[0].yaxis.set_major_formatter(tick.FuncFormatter(reformat_large_tick_values))\n",
    "\n",
    "for c,df in grouped_clusters:\n",
    "    ax[1].scatter(df.retweet_count, df.favorite_count, color=cgen[c], s=15, label='Cluster {}'.format(c+1))\n",
    "\n",
    "ax[1].set_xlabel('$N_\\mathrm{Retweets}$')\n",
    "ax[1].set_ylabel('$N_\\mathrm{Favorites}$')\n",
    "ax[1].set_title('Favorites vs. Retweets')\n",
    "ax[1].set_xscale('log')\n",
    "ax[1].set_xlim(0.5, max(tweets_clip.retweet_count)*1.5)\n",
    "ax[1].set_yscale('log')\n",
    "ax[1].set_ylim(0.05, max(tweets_clip.favorite_count)*1.5)\n",
    "\n",
    "ax[1].legend(loc=4, fontsize=12)\n",
    "\n",
    "fig.suptitle('@{}'.format(thandle), fontsize=24)\n",
    "    \n",
    "plt.tight_layout()\n",
    "    \n",
    "plt.savefig(thandle + '_clusters.png', dpi=300)\n"
   ]
  },
  {
   "cell_type": "code",
   "execution_count": 13,
   "id": "ancient-intellectual",
   "metadata": {},
   "outputs": [
    {
     "name": "stdout",
     "output_type": "stream",
     "text": [
      "Cluster 1 (Number of Tweets: 2167)\n",
      "Most tweets are replies? True\n",
      "Most tweets include media? False\n",
      "Hashtags:\n",
      "URLS:\n",
      "     twitter\n",
      "N_Favorites 808\n",
      "N_Retweets 5\n",
      "\n",
      "\n",
      "Cluster 2 (Number of Tweets: 484)\n",
      "Most tweets are replies? False\n",
      "Most tweets include media? True\n",
      "Hashtags:\n",
      "     SeniorPupSaturday\n",
      "URLS:\n",
      "     twitter\n",
      "N_Favorites 111535\n",
      "N_Retweets 10883\n",
      "\n",
      "\n",
      "Cluster 3 (Number of Tweets: 10)\n",
      "Most tweets are replies? False\n",
      "Most tweets include media? True\n",
      "Hashtags:\n",
      "URLS:\n",
      "N_Favorites 471400\n",
      "N_Retweets 103015\n",
      "\n",
      "\n",
      "Cluster 4 (Number of Tweets: 127)\n",
      "Most tweets are replies? False\n",
      "Most tweets include media? True\n",
      "Hashtags:\n",
      "     PrideMonthPuppo\n",
      "     SeniorPupSaturday\n",
      "URLS:\n",
      "     twitter\n",
      "N_Favorites 208278\n",
      "N_Retweets 27239\n",
      "\n",
      "\n",
      "Cluster 5 (Number of Tweets: 1525)\n",
      "Most tweets are replies? True\n",
      "Most tweets include media? False\n",
      "Hashtags:\n",
      "URLS:\n",
      "     weratedogs\n",
      "     publishing.andrewsmcmeel\n",
      "N_Favorites 33\n",
      "N_Retweets 0\n",
      "\n",
      "\n",
      "Cluster 6 (Number of Tweets: 331)\n",
      "Most tweets are replies? False\n",
      "Most tweets include media? True\n",
      "Hashtags:\n",
      "     TrupanionPartner\n",
      "     partner\n",
      "     SeniorPupSaturday\n",
      "     RoyalCaninPuppies\n",
      "URLS:\n",
      "     gofundme\n",
      "     weratedogs\n",
      "     twitter\n",
      "N_Favorites 35371\n",
      "N_Retweets 2865\n",
      "\n",
      "\n"
     ]
    }
   ],
   "source": [
    "# info about the clusters\n",
    "for c, df in grouped_clusters:\n",
    "    print('Cluster', c+1, '(Number of Tweets: {})'.format(len(df)))\n",
    "    print('Most tweets are replies?', df['in_reply_bool'].mode().tolist()[0])\n",
    "    print('Most tweets include media?', df['media_bool'].mode().tolist()[0])\n",
    "    print('Hashtags:')\n",
    "    for i, count in enumerate(df['hashtags'].value_counts()[:4]):\n",
    "        if count/len(df) > 0.015:\n",
    "            print('    ', df['hashtags'].value_counts()[:4].index.tolist()[i])\n",
    "    print('URLS:')\n",
    "    for i, count in enumerate(df['urls'].value_counts()[:3]):\n",
    "        if count/len(df) > 0.005:\n",
    "            print('    ', df['urls'].value_counts()[:3].index.tolist()[i])\n",
    "    print('N_Favorites', int(df['favorite_count'].median()))\n",
    "    print('N_Retweets', int(df['retweet_count'].median()))\n",
    "    print('\\n')\n"
   ]
  },
  {
   "cell_type": "code",
   "execution_count": 14,
   "id": "dedicated-timothy",
   "metadata": {},
   "outputs": [
    {
     "name": "stdout",
     "output_type": "stream",
     "text": [
      "Which cluster looks like it is mostly made up of ad Tweets?  Cluster 6\n"
     ]
    }
   ],
   "source": [
    "ad_cluster = int(input('Which cluster looks like it is mostly made up of ad Tweets?  Cluster '))"
   ]
  },
  {
   "cell_type": "code",
   "execution_count": 15,
   "id": "molecular-viewer",
   "metadata": {},
   "outputs": [],
   "source": [
    "ads = grouped_clusters.get_group(ad_cluster-1)\n"
   ]
  },
  {
   "cell_type": "code",
   "execution_count": 16,
   "id": "regulation-bishop",
   "metadata": {},
   "outputs": [],
   "source": [
    "# calculate median change in followers over the next 7 days\n",
    "ad_follower_change = []\n",
    "for i,ad in enumerate(ads['created_at']):\n",
    "    time_delta = ad + datetime.timedelta(days=7)\n",
    "\n",
    "    loid = tweets_concat.index[tweets_concat['created_at'] == ad].to_list()[0]\n",
    "    hiid = tweets_concat['created_at'].loc[(tweets_concat['created_at'] > ad) & ((tweets_concat['created_at'] <= time_delta))]\n",
    "    hiid = hiid.iloc[[-1]].index.to_list()[0]\n",
    "    \n",
    "    ad_follower_change.append(tweets_concat['delta_follower_per_time'].iloc[loid:hiid].median())\n",
    "    \n",
    "ads.loc[:, 'ad_follower_change'] = ad_follower_change\n"
   ]
  },
  {
   "cell_type": "code",
   "execution_count": 17,
   "id": "delayed-adelaide",
   "metadata": {},
   "outputs": [],
   "source": [
    "ols = LinearRegression() # create LinearRegression object\n",
    "x_fit = np.asarray(pd.to_datetime(ads.created_at).astype(int).astype(float)).reshape(-1, 1) # use created_at as feature\n",
    "y_fit = np.asarray(ads.ad_follower_change) # use median change in followers as target\n",
    "ols.fit(x_fit, y_fit) # fit the OLS model\n",
    "slope_ols = ols.coef_[0]\n",
    "intercept_ols = ols.intercept_\n",
    "\n",
    "y_pred = intercept_ols + x_fit*slope_ols\n",
    "\n",
    "lossy_tweets = []\n",
    "gainy_tweets = []\n",
    "for i,ad in enumerate(ads['ad_follower_change']):\n",
    "    #TODO: check tweets over the last day that might also have cause significant changes\n",
    "    if (ad - y_pred[i])[0] > 2.5*np.std(y_fit):\n",
    "        gainy_tweets.extend(ads['full_text'].iloc[i-2:i].to_list())\n",
    "    if (ad - y_pred[i])[0] <= -1.0*np.std(y_fit):\n",
    "        lossy_tweets.extend(ads['full_text'].iloc[i-2:i].to_list())\n",
    "                        "
   ]
  },
  {
   "cell_type": "code",
   "execution_count": 18,
   "id": "sexual-wesley",
   "metadata": {},
   "outputs": [],
   "source": [
    "from fpdf import FPDF\n",
    "import textwrap\n",
    "\n",
    "pdf = FPDF()\n",
    "\n",
    "dupes_loss = set([x for n, x in enumerate(lossy_tweets) if x in lossy_tweets[:n]])\n",
    "\n",
    "\n",
    "# Add a page\n",
    "pdf.add_page()\n",
    "  \n",
    "# set style and size of font \n",
    "# that you want in the pdf\n",
    "pdf.set_font(\"Arial\", size = 16)\n",
    "  \n",
    "# create a cell\n",
    "pdf.cell(200, 10, txt = 'Tweets that potentially caused some loss of Followers:\\n\\n', \n",
    "         ln = 1, align = 'L')\n",
    "pdf.cell(200, 10, txt = '', \n",
    "         ln = 2, align = 'L')\n",
    "\n",
    "# add another cell\n",
    "pdf.set_font(\"Arial\", size = 14)\n",
    "tweet_string = ''\n",
    "fact = 3\n",
    "random.seed(seed)\n",
    "rand_idx = random.sample(range(0, len(dupes_loss)), 3)\n",
    "for i,d in enumerate(dupes_loss):\n",
    "    if i in rand_idx:\n",
    "        string_encode = d.encode('ascii', 'ignore')\n",
    "        string_decode = string_encode.decode()\n",
    "        d = textwrap.wrap(string_decode, width=80)\n",
    "\n",
    "        for j in d:\n",
    "            pdf.cell(200, 10, txt=j, ln = fact, align = 'L')\n",
    "            fact += 0.5\n",
    "        pdf.cell(200, 10, txt='', ln = fact, align = 'L')\n",
    "        fact += 1\n",
    "        \n",
    "\n",
    "pdf.output(thandle + '_lossy_tweets.pdf')  \n",
    "pdf.close()\n"
   ]
  },
  {
   "cell_type": "code",
   "execution_count": 19,
   "id": "bridal-tooth",
   "metadata": {},
   "outputs": [],
   "source": [
    "pdf = FPDF()\n",
    "\n",
    "dupes_gain = set([x for n, x in enumerate(gainy_tweets) if x in gainy_tweets[:n]])\n",
    "\n",
    "\n",
    "# Add a page\n",
    "pdf.add_page()\n",
    "  \n",
    "# set style and size of font \n",
    "# that you want in the pdf\n",
    "pdf.set_font(\"Arial\", size = 16)\n",
    "  \n",
    "# create a cell\n",
    "pdf.cell(200, 10, txt = 'Tweets that potentially caused some gain in Followers:\\n\\n', \n",
    "         ln = 1, align = 'L')\n",
    "pdf.cell(200, 10, txt = '', \n",
    "         ln = 2, align = 'L')\n",
    "  \n",
    "# add another cell\n",
    "pdf.set_font(\"Arial\", size = 14)\n",
    "tweet_string = ''\n",
    "fact = 3\n",
    "random.seed(seed)\n",
    "rand_idx = random.sample(range(0, len(dupes_gain)), 3)\n",
    "for i,d in enumerate(dupes_gain):\n",
    "    if i in rand_idx:\n",
    "        string_encode = d.encode('ascii', 'ignore')\n",
    "        string_decode = string_encode.decode()\n",
    "        d = textwrap.wrap(string_decode, width=80)\n",
    "\n",
    "        for j in d:\n",
    "            pdf.cell(200, 10, txt=j, ln = fact, align = 'L')\n",
    "            fact += 0.5\n",
    "        pdf.cell(200, 10, txt='', ln = fact, align = 'L')\n",
    "        fact += 1\n",
    "        \n",
    "\n",
    "pdf.output(thandle + '_gainy_tweets.pdf')  \n",
    "pdf.close()\n"
   ]
  },
  {
   "cell_type": "code",
   "execution_count": null,
   "id": "occupational-final",
   "metadata": {},
   "outputs": [],
   "source": []
  }
 ],
 "metadata": {
  "kernelspec": {
   "display_name": "Python 3",
   "language": "python",
   "name": "python3"
  },
  "language_info": {
   "codemirror_mode": {
    "name": "ipython",
    "version": 3
   },
   "file_extension": ".py",
   "mimetype": "text/x-python",
   "name": "python",
   "nbconvert_exporter": "python",
   "pygments_lexer": "ipython3",
   "version": "3.7.7"
  }
 },
 "nbformat": 4,
 "nbformat_minor": 5
}
